{
 "cells": [
  {
   "cell_type": "markdown",
   "metadata": {},
   "source": [
    "## Wykład 3"
   ]
  },
  {
   "cell_type": "markdown",
   "metadata": {},
   "source": [
    "### Generatory"
   ]
  },
  {
   "cell_type": "code",
   "execution_count": null,
   "metadata": {},
   "outputs": [],
   "source": [
    "def add(x, y):\n",
    "    return x+y\n",
    "\n",
    "class Adder:\n",
    "    def __call__(self, x, y):\n",
    "        return x + y\n",
    "\n",
    "from time import sleep\n",
    "\n",
    "def compute():\n",
    "    values = []\n",
    "    for i in range(10):\n",
    "        sleep(0.5)\n",
    "        values.append(i)\n",
    "    return values\n",
    "\n",
    "\n",
    "class Compute:\n",
    "    def __call__(self):\n",
    "        rv = []\n",
    "        for i in range(10):\n",
    "            sleep(0.5)\n",
    "            rv.append(i)\n",
    "        return rv"
   ]
  },
  {
   "cell_type": "markdown",
   "metadata": {},
   "source": [
    "Do funkcji compute() i tak potrzebujemy poczekać az się obliczą wszystkie wartości i zajmie cała potrzebna pamięć - nawet jak potrzebujemy tylko 3 pierwszych liczb."
   ]
  }
 ],
 "metadata": {
  "language_info": {
   "name": "python"
  }
 },
 "nbformat": 4,
 "nbformat_minor": 2
}
